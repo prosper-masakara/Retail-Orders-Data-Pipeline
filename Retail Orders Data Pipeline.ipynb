{
 "cells": [
  {
   "cell_type": "markdown",
   "id": "592352f4-4d09-4661-a38b-febca7895e9d",
   "metadata": {},
   "source": [
    "# Retail Orders Data Pipeline, Analysis and Visualization using Python, SQL and Tableau"
   ]
  },
  {
   "cell_type": "markdown",
   "id": "b6777f23-f202-4d2b-8730-612fed35d411",
   "metadata": {},
   "source": [
    "## 1.Introduction\n",
    "\n",
    "The project extracts, analyzes and visualize data from a dataset of orders of various products made at a retail stationery store by clients from different states. \n",
    "\n",
    "\n",
    "The aim of the project is to build an ETL pipeline to extract & transform data in Python, load it to MS SQL Server for analysis and create a dashboard in Tableau."
   ]
  },
  {
   "cell_type": "markdown",
   "id": "144c3a63-250c-438c-b64d-d715dfb05207",
   "metadata": {},
   "source": [
    "The SQL Server analysis will involve running queries to answer the following questions:\n",
    "\n",
    "\n",
    "i) Find the top 5 highest generating products.\n",
    "\n",
    "\n",
    "ii) Find top 5 highest selling products in each region.\n",
    "\n",
    "\n",
    "iii) Find month over month growth comparison for 2022 and 2023 sales.\n",
    "\n",
    "\n",
    "iv) For each category, which month had the highest salaries?"
   ]
  },
  {
   "cell_type": "markdown",
   "id": "e63204be-bbc4-4d6a-965a-1bbe7c0b26e8",
   "metadata": {},
   "source": [
    "The dashboard will provide an interactive platform to access the summaries of the data. Its key features will include a map to show sales per state and per region, a graph to indicate the month over month for 2022 and 2023 sales and a drop down menu to view comprehensive details of each product."
   ]
  },
  {
   "cell_type": "markdown",
   "id": "3d8c89c1-c7e7-49b9-9536-a41ca4030efd",
   "metadata": {},
   "source": [
    "## 2.Data Extraction and Libraries Import\n",
    "    \n",
    "I will start by extracting the data from a csv file and loading packages I will use during this project."
   ]
  },
  {
   "cell_type": "code",
   "execution_count": 13,
   "id": "2cd69e30-bdd6-49e9-b402-a2d221be58cc",
   "metadata": {},
   "outputs": [
    {
     "data": {
      "text/plain": [
       "'C:\\\\Users\\\\user\\\\Documents\\\\persona\\\\PyCharm'"
      ]
     },
     "execution_count": 13,
     "metadata": {},
     "output_type": "execute_result"
    }
   ],
   "source": [
    "import os\n",
    "import pandas as pd\n",
    "#os.getcwd()"
   ]
  },
  {
   "cell_type": "code",
   "execution_count": 15,
   "id": "25c8daec-aac7-46ae-a6e1-ef4f85943aa1",
   "metadata": {},
   "outputs": [],
   "source": [
    "#os.chdir('C:\\\\Users\\\\user\\\\Documents\\\\persona\\\\PyCharm')\n",
    "retail_Data = pd.read_csv('orders.csv')"
   ]
  },
  {
   "cell_type": "code",
   "execution_count": 13,
   "id": "0d770ef0-9d2f-4425-b831-13c5ee590f8b",
   "metadata": {},
   "outputs": [
    {
     "data": {
      "text/html": [
       "<div>\n",
       "<style scoped>\n",
       "    .dataframe tbody tr th:only-of-type {\n",
       "        vertical-align: middle;\n",
       "    }\n",
       "\n",
       "    .dataframe tbody tr th {\n",
       "        vertical-align: top;\n",
       "    }\n",
       "\n",
       "    .dataframe thead th {\n",
       "        text-align: right;\n",
       "    }\n",
       "</style>\n",
       "<table border=\"1\" class=\"dataframe\">\n",
       "  <thead>\n",
       "    <tr style=\"text-align: right;\">\n",
       "      <th></th>\n",
       "      <th>Order Id</th>\n",
       "      <th>Order Date</th>\n",
       "      <th>Ship Mode</th>\n",
       "      <th>Segment</th>\n",
       "      <th>Country</th>\n",
       "      <th>City</th>\n",
       "      <th>State</th>\n",
       "      <th>Postal Code</th>\n",
       "      <th>Region</th>\n",
       "      <th>Category</th>\n",
       "      <th>Sub Category</th>\n",
       "      <th>Product Id</th>\n",
       "      <th>cost price</th>\n",
       "      <th>List Price</th>\n",
       "      <th>Quantity</th>\n",
       "      <th>Discount Percent</th>\n",
       "    </tr>\n",
       "  </thead>\n",
       "  <tbody>\n",
       "    <tr>\n",
       "      <th>0</th>\n",
       "      <td>1</td>\n",
       "      <td>2023-03-01</td>\n",
       "      <td>Second Class</td>\n",
       "      <td>Consumer</td>\n",
       "      <td>United States</td>\n",
       "      <td>Henderson</td>\n",
       "      <td>Kentucky</td>\n",
       "      <td>42420</td>\n",
       "      <td>South</td>\n",
       "      <td>Furniture</td>\n",
       "      <td>Bookcases</td>\n",
       "      <td>FUR-BO-10001798</td>\n",
       "      <td>240</td>\n",
       "      <td>260</td>\n",
       "      <td>2</td>\n",
       "      <td>2</td>\n",
       "    </tr>\n",
       "    <tr>\n",
       "      <th>1</th>\n",
       "      <td>2</td>\n",
       "      <td>2023-08-15</td>\n",
       "      <td>Second Class</td>\n",
       "      <td>Consumer</td>\n",
       "      <td>United States</td>\n",
       "      <td>Henderson</td>\n",
       "      <td>Kentucky</td>\n",
       "      <td>42420</td>\n",
       "      <td>South</td>\n",
       "      <td>Furniture</td>\n",
       "      <td>Chairs</td>\n",
       "      <td>FUR-CH-10000454</td>\n",
       "      <td>600</td>\n",
       "      <td>730</td>\n",
       "      <td>3</td>\n",
       "      <td>3</td>\n",
       "    </tr>\n",
       "    <tr>\n",
       "      <th>2</th>\n",
       "      <td>3</td>\n",
       "      <td>2023-01-10</td>\n",
       "      <td>Second Class</td>\n",
       "      <td>Corporate</td>\n",
       "      <td>United States</td>\n",
       "      <td>Los Angeles</td>\n",
       "      <td>California</td>\n",
       "      <td>90036</td>\n",
       "      <td>West</td>\n",
       "      <td>Office Supplies</td>\n",
       "      <td>Labels</td>\n",
       "      <td>OFF-LA-10000240</td>\n",
       "      <td>10</td>\n",
       "      <td>10</td>\n",
       "      <td>2</td>\n",
       "      <td>5</td>\n",
       "    </tr>\n",
       "    <tr>\n",
       "      <th>3</th>\n",
       "      <td>4</td>\n",
       "      <td>2022-06-18</td>\n",
       "      <td>Standard Class</td>\n",
       "      <td>Consumer</td>\n",
       "      <td>United States</td>\n",
       "      <td>Fort Lauderdale</td>\n",
       "      <td>Florida</td>\n",
       "      <td>33311</td>\n",
       "      <td>South</td>\n",
       "      <td>Furniture</td>\n",
       "      <td>Tables</td>\n",
       "      <td>FUR-TA-10000577</td>\n",
       "      <td>780</td>\n",
       "      <td>960</td>\n",
       "      <td>5</td>\n",
       "      <td>2</td>\n",
       "    </tr>\n",
       "    <tr>\n",
       "      <th>4</th>\n",
       "      <td>5</td>\n",
       "      <td>2022-07-13</td>\n",
       "      <td>Standard Class</td>\n",
       "      <td>Consumer</td>\n",
       "      <td>United States</td>\n",
       "      <td>Fort Lauderdale</td>\n",
       "      <td>Florida</td>\n",
       "      <td>33311</td>\n",
       "      <td>South</td>\n",
       "      <td>Office Supplies</td>\n",
       "      <td>Storage</td>\n",
       "      <td>OFF-ST-10000760</td>\n",
       "      <td>20</td>\n",
       "      <td>20</td>\n",
       "      <td>2</td>\n",
       "      <td>5</td>\n",
       "    </tr>\n",
       "    <tr>\n",
       "      <th>5</th>\n",
       "      <td>6</td>\n",
       "      <td>2022-03-13</td>\n",
       "      <td>Not Available</td>\n",
       "      <td>Consumer</td>\n",
       "      <td>United States</td>\n",
       "      <td>Los Angeles</td>\n",
       "      <td>California</td>\n",
       "      <td>90032</td>\n",
       "      <td>West</td>\n",
       "      <td>Furniture</td>\n",
       "      <td>Furnishings</td>\n",
       "      <td>FUR-FU-10001487</td>\n",
       "      <td>50</td>\n",
       "      <td>50</td>\n",
       "      <td>7</td>\n",
       "      <td>3</td>\n",
       "    </tr>\n",
       "  </tbody>\n",
       "</table>\n",
       "</div>"
      ],
      "text/plain": [
       "   Order Id  Order Date       Ship Mode    Segment        Country  \\\n",
       "0         1  2023-03-01    Second Class   Consumer  United States   \n",
       "1         2  2023-08-15    Second Class   Consumer  United States   \n",
       "2         3  2023-01-10    Second Class  Corporate  United States   \n",
       "3         4  2022-06-18  Standard Class   Consumer  United States   \n",
       "4         5  2022-07-13  Standard Class   Consumer  United States   \n",
       "5         6  2022-03-13   Not Available   Consumer  United States   \n",
       "\n",
       "              City       State  Postal Code Region         Category  \\\n",
       "0        Henderson    Kentucky        42420  South        Furniture   \n",
       "1        Henderson    Kentucky        42420  South        Furniture   \n",
       "2      Los Angeles  California        90036   West  Office Supplies   \n",
       "3  Fort Lauderdale     Florida        33311  South        Furniture   \n",
       "4  Fort Lauderdale     Florida        33311  South  Office Supplies   \n",
       "5      Los Angeles  California        90032   West        Furniture   \n",
       "\n",
       "  Sub Category       Product Id  cost price  List Price  Quantity  \\\n",
       "0    Bookcases  FUR-BO-10001798         240         260         2   \n",
       "1       Chairs  FUR-CH-10000454         600         730         3   \n",
       "2       Labels  OFF-LA-10000240          10          10         2   \n",
       "3       Tables  FUR-TA-10000577         780         960         5   \n",
       "4      Storage  OFF-ST-10000760          20          20         2   \n",
       "5  Furnishings  FUR-FU-10001487          50          50         7   \n",
       "\n",
       "   Discount Percent  \n",
       "0                 2  \n",
       "1                 3  \n",
       "2                 5  \n",
       "3                 2  \n",
       "4                 5  \n",
       "5                 3  "
      ]
     },
     "execution_count": 13,
     "metadata": {},
     "output_type": "execute_result"
    }
   ],
   "source": [
    "#os.getcwd()\n",
    "retail_Data.head(6)         #getting the first 6 rows of the dataset"
   ]
  },
  {
   "cell_type": "markdown",
   "id": "18bf0ffa-2d4c-4be9-9d10-d77f62e87f0e",
   "metadata": {},
   "source": [
    "The 'Ship Mode' column has values not available, which is not type of a ship mode.\n",
    "Im going to check all the levels of ship mode:"
   ]
  },
  {
   "cell_type": "code",
   "execution_count": 17,
   "id": "4278533f-f897-4ff4-9639-3e022a87ba2d",
   "metadata": {},
   "outputs": [
    {
     "data": {
      "text/plain": [
       "array(['Second Class', 'Standard Class', 'Not Available', 'unknown',\n",
       "       'First Class', nan, 'Same Day'], dtype=object)"
      ]
     },
     "execution_count": 17,
     "metadata": {},
     "output_type": "execute_result"
    }
   ],
   "source": [
    "retail_Data['Ship Mode'].unique()\n"
   ]
  },
  {
   "cell_type": "markdown",
   "id": "a05292ba-ede1-443d-9f1c-16ee6f1241a2",
   "metadata": {},
   "source": [
    "Will convert 'Not Available', 'unknown' to nan values such that they can be counted as not a number, which is a recognized type of data."
   ]
  },
  {
   "cell_type": "code",
   "execution_count": 20,
   "id": "e14e1e0b-1d52-4ee3-b55f-5f3d16e17416",
   "metadata": {},
   "outputs": [],
   "source": [
    "#reload the csv file with corrected ship modes:\n",
    "retail_Data = pd.read_csv('orders.csv',na_values = ['Not Available', 'unknown'])\n"
   ]
  },
  {
   "cell_type": "code",
   "execution_count": 22,
   "id": "b5f8c5c8-2df5-4199-999b-37d95e1a8e85",
   "metadata": {},
   "outputs": [
    {
     "data": {
      "text/plain": [
       "array(['Second Class', 'Standard Class', nan, 'First Class', 'Same Day'],\n",
       "      dtype=object)"
      ]
     },
     "execution_count": 22,
     "metadata": {},
     "output_type": "execute_result"
    }
   ],
   "source": [
    "retail_Data['Ship Mode'].unique() "
   ]
  },
  {
   "cell_type": "markdown",
   "id": "56170241-d878-4456-b7ac-428f4247c3af",
   "metadata": {},
   "source": [
    "\n",
    "\n",
    "## 3.Data Transformation and Pre-processing\n",
    "\n",
    "\n",
    "I will check the structure of our dataset and clean it to prepare it for the loading to the SQL server.\n",
    "\n",
    "\n",
    "I will change names of variables or data types and derive new columns or remove columns such that the data can comply with the expected standards of the SQL server management system"
   ]
  },
  {
   "cell_type": "code",
   "execution_count": 25,
   "id": "e7969924-0591-471b-8ee4-3c07d28b994e",
   "metadata": {},
   "outputs": [
    {
     "data": {
      "text/plain": [
       "(9994, 16)"
      ]
     },
     "execution_count": 25,
     "metadata": {},
     "output_type": "execute_result"
    }
   ],
   "source": [
    "retail_Data.shape      #the number of rows and columns of our dataframe."
   ]
  },
  {
   "cell_type": "markdown",
   "id": "43e18209-2608-4a7b-8438-9535cb1a80b5",
   "metadata": {},
   "source": [
    "The dataset has 9994 observations by 16 columns."
   ]
  },
  {
   "cell_type": "code",
   "execution_count": 28,
   "id": "835d3d78-9fe1-43fd-a8eb-d8e8b7142082",
   "metadata": {},
   "outputs": [
    {
     "data": {
      "text/html": [
       "<div>\n",
       "<style scoped>\n",
       "    .dataframe tbody tr th:only-of-type {\n",
       "        vertical-align: middle;\n",
       "    }\n",
       "\n",
       "    .dataframe tbody tr th {\n",
       "        vertical-align: top;\n",
       "    }\n",
       "\n",
       "    .dataframe thead th {\n",
       "        text-align: right;\n",
       "    }\n",
       "</style>\n",
       "<table border=\"1\" class=\"dataframe\">\n",
       "  <thead>\n",
       "    <tr style=\"text-align: right;\">\n",
       "      <th></th>\n",
       "      <th>Order Id</th>\n",
       "      <th>Order Date</th>\n",
       "      <th>Ship Mode</th>\n",
       "      <th>Segment</th>\n",
       "      <th>Country</th>\n",
       "      <th>City</th>\n",
       "      <th>State</th>\n",
       "      <th>Postal Code</th>\n",
       "      <th>Region</th>\n",
       "      <th>Category</th>\n",
       "      <th>Sub Category</th>\n",
       "      <th>Product Id</th>\n",
       "      <th>cost price</th>\n",
       "      <th>List Price</th>\n",
       "      <th>Quantity</th>\n",
       "      <th>Discount Percent</th>\n",
       "    </tr>\n",
       "  </thead>\n",
       "  <tbody>\n",
       "    <tr>\n",
       "      <th>0</th>\n",
       "      <td>1</td>\n",
       "      <td>2023-03-01</td>\n",
       "      <td>Second Class</td>\n",
       "      <td>Consumer</td>\n",
       "      <td>United States</td>\n",
       "      <td>Henderson</td>\n",
       "      <td>Kentucky</td>\n",
       "      <td>42420</td>\n",
       "      <td>South</td>\n",
       "      <td>Furniture</td>\n",
       "      <td>Bookcases</td>\n",
       "      <td>FUR-BO-10001798</td>\n",
       "      <td>240</td>\n",
       "      <td>260</td>\n",
       "      <td>2</td>\n",
       "      <td>2</td>\n",
       "    </tr>\n",
       "    <tr>\n",
       "      <th>1</th>\n",
       "      <td>2</td>\n",
       "      <td>2023-08-15</td>\n",
       "      <td>Second Class</td>\n",
       "      <td>Consumer</td>\n",
       "      <td>United States</td>\n",
       "      <td>Henderson</td>\n",
       "      <td>Kentucky</td>\n",
       "      <td>42420</td>\n",
       "      <td>South</td>\n",
       "      <td>Furniture</td>\n",
       "      <td>Chairs</td>\n",
       "      <td>FUR-CH-10000454</td>\n",
       "      <td>600</td>\n",
       "      <td>730</td>\n",
       "      <td>3</td>\n",
       "      <td>3</td>\n",
       "    </tr>\n",
       "    <tr>\n",
       "      <th>2</th>\n",
       "      <td>3</td>\n",
       "      <td>2023-01-10</td>\n",
       "      <td>Second Class</td>\n",
       "      <td>Corporate</td>\n",
       "      <td>United States</td>\n",
       "      <td>Los Angeles</td>\n",
       "      <td>California</td>\n",
       "      <td>90036</td>\n",
       "      <td>West</td>\n",
       "      <td>Office Supplies</td>\n",
       "      <td>Labels</td>\n",
       "      <td>OFF-LA-10000240</td>\n",
       "      <td>10</td>\n",
       "      <td>10</td>\n",
       "      <td>2</td>\n",
       "      <td>5</td>\n",
       "    </tr>\n",
       "    <tr>\n",
       "      <th>3</th>\n",
       "      <td>4</td>\n",
       "      <td>2022-06-18</td>\n",
       "      <td>Standard Class</td>\n",
       "      <td>Consumer</td>\n",
       "      <td>United States</td>\n",
       "      <td>Fort Lauderdale</td>\n",
       "      <td>Florida</td>\n",
       "      <td>33311</td>\n",
       "      <td>South</td>\n",
       "      <td>Furniture</td>\n",
       "      <td>Tables</td>\n",
       "      <td>FUR-TA-10000577</td>\n",
       "      <td>780</td>\n",
       "      <td>960</td>\n",
       "      <td>5</td>\n",
       "      <td>2</td>\n",
       "    </tr>\n",
       "    <tr>\n",
       "      <th>4</th>\n",
       "      <td>5</td>\n",
       "      <td>2022-07-13</td>\n",
       "      <td>Standard Class</td>\n",
       "      <td>Consumer</td>\n",
       "      <td>United States</td>\n",
       "      <td>Fort Lauderdale</td>\n",
       "      <td>Florida</td>\n",
       "      <td>33311</td>\n",
       "      <td>South</td>\n",
       "      <td>Office Supplies</td>\n",
       "      <td>Storage</td>\n",
       "      <td>OFF-ST-10000760</td>\n",
       "      <td>20</td>\n",
       "      <td>20</td>\n",
       "      <td>2</td>\n",
       "      <td>5</td>\n",
       "    </tr>\n",
       "  </tbody>\n",
       "</table>\n",
       "</div>"
      ],
      "text/plain": [
       "   Order Id  Order Date       Ship Mode    Segment        Country  \\\n",
       "0         1  2023-03-01    Second Class   Consumer  United States   \n",
       "1         2  2023-08-15    Second Class   Consumer  United States   \n",
       "2         3  2023-01-10    Second Class  Corporate  United States   \n",
       "3         4  2022-06-18  Standard Class   Consumer  United States   \n",
       "4         5  2022-07-13  Standard Class   Consumer  United States   \n",
       "\n",
       "              City       State  Postal Code Region         Category  \\\n",
       "0        Henderson    Kentucky        42420  South        Furniture   \n",
       "1        Henderson    Kentucky        42420  South        Furniture   \n",
       "2      Los Angeles  California        90036   West  Office Supplies   \n",
       "3  Fort Lauderdale     Florida        33311  South        Furniture   \n",
       "4  Fort Lauderdale     Florida        33311  South  Office Supplies   \n",
       "\n",
       "  Sub Category       Product Id  cost price  List Price  Quantity  \\\n",
       "0    Bookcases  FUR-BO-10001798         240         260         2   \n",
       "1       Chairs  FUR-CH-10000454         600         730         3   \n",
       "2       Labels  OFF-LA-10000240          10          10         2   \n",
       "3       Tables  FUR-TA-10000577         780         960         5   \n",
       "4      Storage  OFF-ST-10000760          20          20         2   \n",
       "\n",
       "   Discount Percent  \n",
       "0                 2  \n",
       "1                 3  \n",
       "2                 5  \n",
       "3                 2  \n",
       "4                 5  "
      ]
     },
     "execution_count": 28,
     "metadata": {},
     "output_type": "execute_result"
    }
   ],
   "source": [
    "retail_Data.head()"
   ]
  },
  {
   "cell_type": "markdown",
   "id": "b18730aa-4a8b-4185-8d13-210025363914",
   "metadata": {},
   "source": [
    "I will change the names of the columns, to lower case and replace ' ' with _."
   ]
  },
  {
   "cell_type": "code",
   "execution_count": 30,
   "id": "bc7de899-217f-40f3-9a03-7b6310afc533",
   "metadata": {},
   "outputs": [
    {
     "data": {
      "text/plain": [
       "Index(['order_id', 'order_date', 'ship_mode', 'segment', 'country', 'city',\n",
       "       'state', 'postal_code', 'region', 'category', 'sub_category',\n",
       "       'product_id', 'cost_price', 'list_price', 'quantity',\n",
       "       'discount_percent'],\n",
       "      dtype='object')"
      ]
     },
     "execution_count": 30,
     "metadata": {},
     "output_type": "execute_result"
    }
   ],
   "source": [
    "retail_Data.columns = retail_Data.columns.str.lower()\n",
    "retail_Data.columns = retail_Data.columns.str.replace(' ','_')\n",
    "retail_Data.columns"
   ]
  },
  {
   "cell_type": "markdown",
   "id": "cdde926d-15ba-4afd-89bb-2b39e7046a18",
   "metadata": {},
   "source": [
    "To be able to answer the SQL questions, I need to add new columns. The data for the new columns will be derived from the existing columns in our dataframe.\n",
    "I Will add 'discount', 'sale_price' and 'profit'."
   ]
  },
  {
   "cell_type": "code",
   "execution_count": 33,
   "id": "2d7ce41f-5bae-4435-a504-70be49ebf257",
   "metadata": {},
   "outputs": [],
   "source": [
    "retail_Data['discount'] = retail_Data['list_price'] * retail_Data['discount_percent'] * .01\n"
   ]
  },
  {
   "cell_type": "code",
   "execution_count": 35,
   "id": "ce9b182d-309c-44d3-8aab-514013334d20",
   "metadata": {},
   "outputs": [],
   "source": [
    "retail_Data['sale_price'] = retail_Data['list_price'] - retail_Data['discount']\n"
   ]
  },
  {
   "cell_type": "code",
   "execution_count": 37,
   "id": "a48161b4-af02-4127-afad-636ed5a92c79",
   "metadata": {},
   "outputs": [],
   "source": [
    "retail_Data['profit'] = retail_Data['sale_price'] - retail_Data['cost_price']\n"
   ]
  },
  {
   "cell_type": "code",
   "execution_count": 39,
   "id": "4b19091b-392b-4e36-a8a3-f2c8c4570a29",
   "metadata": {},
   "outputs": [
    {
     "data": {
      "text/html": [
       "<div>\n",
       "<style scoped>\n",
       "    .dataframe tbody tr th:only-of-type {\n",
       "        vertical-align: middle;\n",
       "    }\n",
       "\n",
       "    .dataframe tbody tr th {\n",
       "        vertical-align: top;\n",
       "    }\n",
       "\n",
       "    .dataframe thead th {\n",
       "        text-align: right;\n",
       "    }\n",
       "</style>\n",
       "<table border=\"1\" class=\"dataframe\">\n",
       "  <thead>\n",
       "    <tr style=\"text-align: right;\">\n",
       "      <th></th>\n",
       "      <th>order_id</th>\n",
       "      <th>order_date</th>\n",
       "      <th>ship_mode</th>\n",
       "      <th>segment</th>\n",
       "      <th>country</th>\n",
       "      <th>city</th>\n",
       "      <th>state</th>\n",
       "      <th>postal_code</th>\n",
       "      <th>region</th>\n",
       "      <th>category</th>\n",
       "      <th>sub_category</th>\n",
       "      <th>product_id</th>\n",
       "      <th>cost_price</th>\n",
       "      <th>list_price</th>\n",
       "      <th>quantity</th>\n",
       "      <th>discount_percent</th>\n",
       "      <th>discount</th>\n",
       "      <th>sale_price</th>\n",
       "      <th>profit</th>\n",
       "    </tr>\n",
       "  </thead>\n",
       "  <tbody>\n",
       "    <tr>\n",
       "      <th>0</th>\n",
       "      <td>1</td>\n",
       "      <td>2023-03-01</td>\n",
       "      <td>Second Class</td>\n",
       "      <td>Consumer</td>\n",
       "      <td>United States</td>\n",
       "      <td>Henderson</td>\n",
       "      <td>Kentucky</td>\n",
       "      <td>42420</td>\n",
       "      <td>South</td>\n",
       "      <td>Furniture</td>\n",
       "      <td>Bookcases</td>\n",
       "      <td>FUR-BO-10001798</td>\n",
       "      <td>240</td>\n",
       "      <td>260</td>\n",
       "      <td>2</td>\n",
       "      <td>2</td>\n",
       "      <td>5.2</td>\n",
       "      <td>254.8</td>\n",
       "      <td>14.8</td>\n",
       "    </tr>\n",
       "    <tr>\n",
       "      <th>1</th>\n",
       "      <td>2</td>\n",
       "      <td>2023-08-15</td>\n",
       "      <td>Second Class</td>\n",
       "      <td>Consumer</td>\n",
       "      <td>United States</td>\n",
       "      <td>Henderson</td>\n",
       "      <td>Kentucky</td>\n",
       "      <td>42420</td>\n",
       "      <td>South</td>\n",
       "      <td>Furniture</td>\n",
       "      <td>Chairs</td>\n",
       "      <td>FUR-CH-10000454</td>\n",
       "      <td>600</td>\n",
       "      <td>730</td>\n",
       "      <td>3</td>\n",
       "      <td>3</td>\n",
       "      <td>21.9</td>\n",
       "      <td>708.1</td>\n",
       "      <td>108.1</td>\n",
       "    </tr>\n",
       "    <tr>\n",
       "      <th>2</th>\n",
       "      <td>3</td>\n",
       "      <td>2023-01-10</td>\n",
       "      <td>Second Class</td>\n",
       "      <td>Corporate</td>\n",
       "      <td>United States</td>\n",
       "      <td>Los Angeles</td>\n",
       "      <td>California</td>\n",
       "      <td>90036</td>\n",
       "      <td>West</td>\n",
       "      <td>Office Supplies</td>\n",
       "      <td>Labels</td>\n",
       "      <td>OFF-LA-10000240</td>\n",
       "      <td>10</td>\n",
       "      <td>10</td>\n",
       "      <td>2</td>\n",
       "      <td>5</td>\n",
       "      <td>0.5</td>\n",
       "      <td>9.5</td>\n",
       "      <td>-0.5</td>\n",
       "    </tr>\n",
       "    <tr>\n",
       "      <th>3</th>\n",
       "      <td>4</td>\n",
       "      <td>2022-06-18</td>\n",
       "      <td>Standard Class</td>\n",
       "      <td>Consumer</td>\n",
       "      <td>United States</td>\n",
       "      <td>Fort Lauderdale</td>\n",
       "      <td>Florida</td>\n",
       "      <td>33311</td>\n",
       "      <td>South</td>\n",
       "      <td>Furniture</td>\n",
       "      <td>Tables</td>\n",
       "      <td>FUR-TA-10000577</td>\n",
       "      <td>780</td>\n",
       "      <td>960</td>\n",
       "      <td>5</td>\n",
       "      <td>2</td>\n",
       "      <td>19.2</td>\n",
       "      <td>940.8</td>\n",
       "      <td>160.8</td>\n",
       "    </tr>\n",
       "    <tr>\n",
       "      <th>4</th>\n",
       "      <td>5</td>\n",
       "      <td>2022-07-13</td>\n",
       "      <td>Standard Class</td>\n",
       "      <td>Consumer</td>\n",
       "      <td>United States</td>\n",
       "      <td>Fort Lauderdale</td>\n",
       "      <td>Florida</td>\n",
       "      <td>33311</td>\n",
       "      <td>South</td>\n",
       "      <td>Office Supplies</td>\n",
       "      <td>Storage</td>\n",
       "      <td>OFF-ST-10000760</td>\n",
       "      <td>20</td>\n",
       "      <td>20</td>\n",
       "      <td>2</td>\n",
       "      <td>5</td>\n",
       "      <td>1.0</td>\n",
       "      <td>19.0</td>\n",
       "      <td>-1.0</td>\n",
       "    </tr>\n",
       "  </tbody>\n",
       "</table>\n",
       "</div>"
      ],
      "text/plain": [
       "   order_id  order_date       ship_mode    segment        country  \\\n",
       "0         1  2023-03-01    Second Class   Consumer  United States   \n",
       "1         2  2023-08-15    Second Class   Consumer  United States   \n",
       "2         3  2023-01-10    Second Class  Corporate  United States   \n",
       "3         4  2022-06-18  Standard Class   Consumer  United States   \n",
       "4         5  2022-07-13  Standard Class   Consumer  United States   \n",
       "\n",
       "              city       state  postal_code region         category  \\\n",
       "0        Henderson    Kentucky        42420  South        Furniture   \n",
       "1        Henderson    Kentucky        42420  South        Furniture   \n",
       "2      Los Angeles  California        90036   West  Office Supplies   \n",
       "3  Fort Lauderdale     Florida        33311  South        Furniture   \n",
       "4  Fort Lauderdale     Florida        33311  South  Office Supplies   \n",
       "\n",
       "  sub_category       product_id  cost_price  list_price  quantity  \\\n",
       "0    Bookcases  FUR-BO-10001798         240         260         2   \n",
       "1       Chairs  FUR-CH-10000454         600         730         3   \n",
       "2       Labels  OFF-LA-10000240          10          10         2   \n",
       "3       Tables  FUR-TA-10000577         780         960         5   \n",
       "4      Storage  OFF-ST-10000760          20          20         2   \n",
       "\n",
       "   discount_percent  discount  sale_price  profit  \n",
       "0                 2       5.2       254.8    14.8  \n",
       "1                 3      21.9       708.1   108.1  \n",
       "2                 5       0.5         9.5    -0.5  \n",
       "3                 2      19.2       940.8   160.8  \n",
       "4                 5       1.0        19.0    -1.0  "
      ]
     },
     "execution_count": 39,
     "metadata": {},
     "output_type": "execute_result"
    }
   ],
   "source": [
    "retail_Data.head()   # the dataframe now has 3 added columns."
   ]
  },
  {
   "cell_type": "markdown",
   "id": "47a60395-9ced-4d53-bbe4-fb07c8bca71c",
   "metadata": {},
   "source": [
    "Next im going to convert the order_date from object data type to datetime data type"
   ]
  },
  {
   "cell_type": "code",
   "execution_count": 43,
   "id": "6afee944-5d65-4753-a4a0-02cdf3a2dfff",
   "metadata": {},
   "outputs": [
    {
     "data": {
      "text/plain": [
       "order_id              int64\n",
       "order_date           object\n",
       "ship_mode            object\n",
       "segment              object\n",
       "country              object\n",
       "city                 object\n",
       "state                object\n",
       "postal_code           int64\n",
       "region               object\n",
       "category             object\n",
       "sub_category         object\n",
       "product_id           object\n",
       "cost_price            int64\n",
       "list_price            int64\n",
       "quantity              int64\n",
       "discount_percent      int64\n",
       "discount            float64\n",
       "sale_price          float64\n",
       "profit              float64\n",
       "dtype: object"
      ]
     },
     "execution_count": 43,
     "metadata": {},
     "output_type": "execute_result"
    }
   ],
   "source": [
    "retail_Data.dtypes  #checking the data types of all the variables in our data frame. 'order_date' is an object not a date."
   ]
  },
  {
   "cell_type": "code",
   "execution_count": 47,
   "id": "04ccb333-dbe5-461c-af79-17b324e741ce",
   "metadata": {},
   "outputs": [],
   "source": [
    "retail_Data['order_date'] = pd.to_datetime(retail_Data['order_date']) #converting 'order_date' to a datetime data type."
   ]
  },
  {
   "cell_type": "code",
   "execution_count": 49,
   "id": "e4ad9315-bd1c-40c3-9cf1-e5ac3320dc34",
   "metadata": {},
   "outputs": [
    {
     "data": {
      "text/plain": [
       "order_id                     int64\n",
       "order_date          datetime64[ns]\n",
       "ship_mode                   object\n",
       "segment                     object\n",
       "country                     object\n",
       "city                        object\n",
       "state                       object\n",
       "postal_code                  int64\n",
       "region                      object\n",
       "category                    object\n",
       "sub_category                object\n",
       "product_id                  object\n",
       "cost_price                   int64\n",
       "list_price                   int64\n",
       "quantity                     int64\n",
       "discount_percent             int64\n",
       "discount                   float64\n",
       "sale_price                 float64\n",
       "profit                     float64\n",
       "dtype: object"
      ]
     },
     "execution_count": 49,
     "metadata": {},
     "output_type": "execute_result"
    }
   ],
   "source": [
    "retail_Data.dtypes     #order_date is now has a datetime datatype"
   ]
  },
  {
   "cell_type": "markdown",
   "id": "a46528da-88c5-4936-97da-068f93ee7e9c",
   "metadata": {},
   "source": [
    "I will delete the 'list_price' and 'cost_price' columns in order to normalize our data for the SQL server."
   ]
  },
  {
   "cell_type": "code",
   "execution_count": 53,
   "id": "3d2c9e11-3f79-405d-a4c3-d304b06a566f",
   "metadata": {},
   "outputs": [],
   "source": [
    "retail_Data.drop(columns=['list_price','cost_price'],inplace=True)\n"
   ]
  },
  {
   "cell_type": "markdown",
   "id": "40ee9b18-1033-4660-bf06-4b9de8ef61e2",
   "metadata": {},
   "source": [
    "## 4.Data Loading to Database (MS SQL Server)\n",
    "\n",
    "\n",
    "The sqlalchemy module will be used to connect the python environment to the SQL server.\n",
    "\n",
    "\n",
    "The retail order data will be transferred to the MS SQL Server Manager to run queries and analyze the data"
   ]
  },
  {
   "cell_type": "code",
   "execution_count": 27,
   "id": "44633fca-5b82-40ac-91e4-fcc131d528e8",
   "metadata": {},
   "outputs": [],
   "source": [
    "\n",
    "import sqlalchemy as sal    #will use the sqlalchemy for the connection"
   ]
  },
  {
   "cell_type": "code",
   "execution_count": 88,
   "id": "65907d87-0280-43a4-a3e8-1a012bd9042b",
   "metadata": {},
   "outputs": [
    {
     "name": "stderr",
     "output_type": "stream",
     "text": [
      "<>:1: SyntaxWarning: invalid escape sequence '\\S'\n",
      "<>:1: SyntaxWarning: invalid escape sequence '\\S'\n",
      "C:\\Users\\user\\AppData\\Local\\Temp\\ipykernel_2476\\1504546519.py:1: SyntaxWarning: invalid escape sequence '\\S'\n",
      "  engine = sal.create_engine('mssql://DESKTOP-P2K3MK7\\SQLEXPRESS/master?driver=ODBC+DRIVER+17+FOR+SQL+SERVER')\n"
     ]
    }
   ],
   "source": [
    "engine = sal.create_engine('mssql://DESKTOP-P2K3MK7\\SQLEXPRESS/master?driver=ODBC+DRIVER+17+FOR+SQL+SERVER') #setting the connection parameters.\n",
    "conn=engine.connect()\n",
    "\n",
    "#DESKTOP-P2K3MK7\\SQLEXPRESS"
   ]
  },
  {
   "cell_type": "code",
   "execution_count": 90,
   "id": "8e68838d-7ea1-4c1b-9017-4e04c98ea35b",
   "metadata": {},
   "outputs": [
    {
     "data": {
      "text/plain": [
       "38"
      ]
     },
     "execution_count": 90,
     "metadata": {},
     "output_type": "execute_result"
    }
   ],
   "source": [
    "retail_Data.to_sql('retail_orders', con=conn , index=False, if_exists = 'append')"
   ]
  },
  {
   "cell_type": "markdown",
   "id": "d899b4b8-ac9e-48b5-bcdb-72697b813877",
   "metadata": {},
   "source": [
    "## 5.Conclusion\n",
    "\n",
    "  \n",
    "In conclusion, the data analysis conducted on the retail orders has provided valuable insights into product sales trends. By effectively connecting the dataset to a SQL database, we enhanced our ability to query and manipulate the data, allowing for more comprehensive analyses. Building an interactive dashboard in Tableau with a comprehensive interface enabled efficient management and analysis of customer purchases.\n",
    "\n",
    "    \n",
    "The findings highlight key patterns in purchasing behavior, such as highest selling products, sales per region which can inform inventory management and marketing strategies. Overall, this project underscores the importance of data-driven decision-making in the retail sector.\n",
    "\n",
    "    \n",
    "Future work could involve predictive analytics to optimize business strategies and improve customer engagement.\n"
   ]
  }
 ],
 "metadata": {
  "kernelspec": {
   "display_name": "Python 3 (ipykernel)",
   "language": "python",
   "name": "python3"
  },
  "language_info": {
   "codemirror_mode": {
    "name": "ipython",
    "version": 3
   },
   "file_extension": ".py",
   "mimetype": "text/x-python",
   "name": "python",
   "nbconvert_exporter": "python",
   "pygments_lexer": "ipython3",
   "version": "3.12.4"
  }
 },
 "nbformat": 4,
 "nbformat_minor": 5
}
